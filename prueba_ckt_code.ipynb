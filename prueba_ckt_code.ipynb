{
 "cells": [
  {
   "cell_type": "markdown",
   "metadata": {},
   "source": [
    "#### Importación de librerias y variables globales como spark session, schema del fichero, o ruta de donde se lee el fichero json"
   ]
  },
  {
   "cell_type": "code",
   "execution_count": null,
   "metadata": {},
   "outputs": [],
   "source": [
    "import pandas as pd\n",
    "import os\n",
    "import pyspark\n",
    "from pyspark.conf import SparkConf\n",
    "from pyspark.sql.types import StructField, StructType, StringType, IntegerType\n",
    "from pyspark.sql import SQLContext\n",
    "from pyspark.context import SparkContext\n",
    "spark = SparkSession.builder.config(conf=SparkConf()).getOrCreate()\n",
    "schema = StructType([\n",
    "    StructField('date', StringType(), True),\n",
    "    StructField('price', IntegerType(), True),\n",
    "    StructField('product_name', StringType(), True),\n",
    "    StructField('purchased', StringType(), True),\n",
    "    StructField('user_id', StringType(), True)\n",
    "])\n",
    "sc = SparkContext()\n",
    "sqlContext = SQLContext(spark)\n",
    "ruta_json = 'C://Users/ihuerta/Desktop/endpoint.json'"
   ]
  },
  {
   "cell_type": "markdown",
   "metadata": {},
   "source": [
    "#### Método para saber el tamaño de un fichero y así utilizar pandas o spark dependiendo de su volumen"
   ]
  },
  {
   "cell_type": "code",
   "execution_count": 94,
   "metadata": {},
   "outputs": [],
   "source": [
    "def file_size(route):\n",
    "    return os.path.getsize(route)"
   ]
  },
  {
   "cell_type": "markdown",
   "metadata": {},
   "source": [
    "#### Procesamiento con spark"
   ]
  },
  {
   "cell_type": "code",
   "execution_count": 221,
   "metadata": {},
   "outputs": [],
   "source": [
    "def process_with_spark(spark,route,schema):\n",
    "    if os.path.exists('./prueba_ckt.csv'):\n",
    "        h = False\n",
    "    else:\n",
    "        h = True\n",
    "    df = spark.read.json(route,schema)\n",
    "    df.toPandas().to_csv('prueba_ckt.csv',mode='a', header=h,index= False)\n",
    "    print('file processed with pyspark and include in the csv file')\n",
    "    "
   ]
  },
  {
   "cell_type": "markdown",
   "metadata": {},
   "source": [
    "#### Procesamiento con pandas"
   ]
  },
  {
   "cell_type": "code",
   "execution_count": 222,
   "metadata": {},
   "outputs": [],
   "source": [
    "def process_with_pandas(route):\n",
    "    if os.path.exists('./prueba_ckt.csv'):\n",
    "        h = False\n",
    "    else:\n",
    "        h = True\n",
    "    df = pd.read_json(route)\n",
    "    df.to_csv('prueba_ckt.csv', mode='a', header=h,index= False)\n",
    "    print('file processed with pandas and include in the csv file')\n",
    "    \n",
    "    "
   ]
  },
  {
   "cell_type": "markdown",
   "metadata": {},
   "source": [
    "#### Si el fichero es mayor de 0.5 GigaBytes se procesará con spark ya que es un tamaño decente para que entre spark en acción."
   ]
  },
  {
   "cell_type": "code",
   "execution_count": 220,
   "metadata": {},
   "outputs": [],
   "source": [
    "def main(route,spark,schema):\n",
    "    if file_size(route) > 50000000:\n",
    "        process_with_spark(spark,route,schema)\n",
    "    else:\n",
    "        process_with_pandas(route)\n",
    "        "
   ]
  },
  {
   "cell_type": "markdown",
   "metadata": {},
   "source": [
    "#### lectura del fichero con spark ya que irá creciendo  y gracias a su SQL se pueden hacer consultas sencillas y bastante rápidas"
   ]
  },
  {
   "cell_type": "code",
   "execution_count": 225,
   "metadata": {},
   "outputs": [],
   "source": [
    "def query_questions(route,spark,user,date,date2):\n",
    "    df = spark.read.format(\"csv\").option(\"header\",True).load(route)\n",
    "    df.createOrReplaceTempView(\"people\")\n",
    "    # saber que compras que ha realizado un usuario\n",
    "    print(f\"El usuario {user} ha realizado estas compras:\")\n",
    "    spark.sql(f\"select * from people where user_id ={user}\").show()\n",
    "\n",
    "    # variación de un producto por fecha\n",
    "    print(f\"producto vendidos en el mes {date}\")\n",
    "    spark.sql(f\"select product_name,count(product_name),date from people where date > '{date}' group by product_name,date\").show()\n",
    "    \n",
    "    # compras por mes en un año\n",
    "    print(f\"productos vendidos entre las fechas {date} y {date2}\")\n",
    "    spark.sql(f\"select count(product_name) from people where date > '{date}' and date < '{date2}'\",).show()\n",
    "    "
   ]
  },
  {
   "cell_type": "code",
   "execution_count": 223,
   "metadata": {},
   "outputs": [
    {
     "name": "stdout",
     "output_type": "stream",
     "text": [
      "file processed with pandas and include in the csv file\n"
     ]
    }
   ],
   "source": [
    "main(ruta_json,spark,schema)"
   ]
  },
  {
   "cell_type": "code",
   "execution_count": 226,
   "metadata": {},
   "outputs": [
    {
     "name": "stdout",
     "output_type": "stream",
     "text": [
      "El usuario 1 ha realizado estas compras:\n",
      "+-------+----------+------------+-----+---------+\n",
      "|user_id|      date|product_name|price|purchased|\n",
      "+-------+----------+------------+-----+---------+\n",
      "|      1|2020-12-12|  zapatillas|   50|     True|\n",
      "|      1|2020-10-07|    camiseta|   15|    False|\n",
      "|      1|2021-12-24|    cinturon|   50|     True|\n",
      "|      1|2020-12-12|  zapatillas|   50|     True|\n",
      "|      1|2020-10-07|    camiseta|   15|    False|\n",
      "|      1|2021-12-24|    cinturon|   50|     True|\n",
      "|      1|2020-12-12|  zapatillas|   50|     True|\n",
      "|      1|2020-10-07|    camiseta|   15|    False|\n",
      "|      1|2021-12-24|    cinturon|   50|     True|\n",
      "+-------+----------+------------+-----+---------+\n",
      "\n",
      "producto vendidos en el mes 2021-01-01\n",
      "+------------+-------------------+----------+\n",
      "|product_name|count(product_name)|      date|\n",
      "+------------+-------------------+----------+\n",
      "|       gorra|                  3|2021-11-01|\n",
      "|       traje|                  3|2021-02-24|\n",
      "|    cinturon|                  3|2021-12-24|\n",
      "+------------+-------------------+----------+\n",
      "\n",
      "productos vendidos entre las fechas 2021-01-01 y 2021-12-23\n",
      "+-------------------+\n",
      "|count(product_name)|\n",
      "+-------------------+\n",
      "|                  6|\n",
      "+-------------------+\n",
      "\n"
     ]
    }
   ],
   "source": [
    "query_questions(\"prueba_ckt.csv\",spark,1,'2021-01-01','2021-12-23')"
   ]
  }
 ],
 "metadata": {
  "kernelspec": {
   "display_name": "Python 3",
   "language": "python",
   "name": "python3"
  },
  "language_info": {
   "codemirror_mode": {
    "name": "ipython",
    "version": 3
   },
   "file_extension": ".py",
   "mimetype": "text/x-python",
   "name": "python",
   "nbconvert_exporter": "python",
   "pygments_lexer": "ipython3",
   "version": "3.7.6"
  }
 },
 "nbformat": 4,
 "nbformat_minor": 4
}
